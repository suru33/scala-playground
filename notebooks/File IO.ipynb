{
 "cells": [
  {
   "cell_type": "code",
   "execution_count": 1,
   "metadata": {},
   "outputs": [
    {
     "data": {
      "text/plain": [
       "\u001b[32mimport \u001b[39m\u001b[36mscala.io.Source\u001b[39m"
      ]
     },
     "execution_count": 1,
     "metadata": {},
     "output_type": "execute_result"
    }
   ],
   "source": [
    "import scala.io.Source"
   ]
  },
  {
   "cell_type": "code",
   "execution_count": 2,
   "metadata": {},
   "outputs": [
    {
     "name": "stdout",
     "output_type": "stream",
     "text": [
      "Serial Number,Company Name,Employee Markme,Description,Leave\n",
      "9788189999599,TALES OF SHIVA,Mark,mark,0\n",
      "9780099578079,1Q84 THE COMPLETE TRILOGY,HARUKI MURAKAMI,Mark,0\n",
      "9780198082897,MY KUMAN,Mark,Mark,0\n",
      "9780007880331,THE GOD OF SMAAL THINGS,ARUNDHATI ROY,4TH HARPER COLLINS,2\n",
      "9780545060455,THE BLACK CIRCLE,Mark,4TH HARPER COLLINS,0\n",
      "9788126525072,THE THREE LAWS OF PERFORMANCE,Mark,4TH HARPER COLLINS,0\n",
      "9789381626610,CHAMarkKYA MANTRA,Mark,4TH HARPER COLLINS,0\n",
      "9788184513523,59.FLAGS,Mark,4TH HARPER COLLINS,0\n",
      "9780743234801,THE POWER OF POSITIVE THINKING FROM,Mark,A & A PUBLISHER,0\n",
      "9789381529621,YOU CAN IF YO THINK YO CAN,PEALE,A & A PUBLISHER,0\n",
      "9788183223966,DONGRI SE DUBAI TAK (MPH),Mark,A & A PUBLISHER,0\n",
      "9788187776005,MarkLANDA ADYTAN KOSH,Mark,AADISH BOOK DEPOT,0\n",
      "9788187776013,MarkLANDA VISHAL SHABD SAGAR,-,AADISH BOOK DEPOT,1\n",
      "8187776021,MarkLANDA CONCISE DICT(ENG TO HINDI),Mark,AADISH BOOK DEPOT,0\n",
      "9789384716165,LIEUTEMarkMarkT GENERAL BHAGAT: A SAGA OF BRAVERY AND LEADERSHIP,Mark,AAM COMICS,2\n",
      "9789384716233,LN. MarkIK SUNDER SINGH,N.A,AAN COMICS,0\n",
      "9789384850319,I AM KRISHMark,DEEP TRIVEDI,AATMAN INNOVATIONS PVT LTD,1\n",
      "9789384850357,DON'T TEACH ME TOLERANCE INDIA,DEEP TRIVEDI,AATMAN INNOVATIONS PVT LTD,0\n",
      "9789384850364,MUJHE SAHISHNUTA MAT SIKHAO BHARAT,DEEP TRIVEDI,AATMAN INNOVATIONS PVT LTD,0\n"
     ]
    },
    {
     "data": {
      "text/plain": [
       "\u001b[36mfileName\u001b[39m: \u001b[32mString\u001b[39m = \u001b[32m\"sample.csv\"\u001b[39m"
      ]
     },
     "execution_count": 2,
     "metadata": {},
     "output_type": "execute_result"
    }
   ],
   "source": [
    "val fileName = \"sample.csv\"\n",
    "\n",
    "for (line <- Source.fromFile(fileName).getLines) {\n",
    "    println(line)\n",
    "}"
   ]
  },
  {
   "cell_type": "code",
   "execution_count": 3,
   "metadata": {},
   "outputs": [
    {
     "data": {
      "text/plain": [
       "\u001b[36mlines1\u001b[39m: \u001b[32mList\u001b[39m[\u001b[32mString\u001b[39m] = \u001b[33mList\u001b[39m(\n",
       "  \u001b[32m\"Serial Number,Company Name,Employee Markme,Description,Leave\"\u001b[39m,\n",
       "  \u001b[32m\"9788189999599,TALES OF SHIVA,Mark,mark,0\"\u001b[39m,\n",
       "  \u001b[32m\"9780099578079,1Q84 THE COMPLETE TRILOGY,HARUKI MURAKAMI,Mark,0\"\u001b[39m,\n",
       "  \u001b[32m\"9780198082897,MY KUMAN,Mark,Mark,0\"\u001b[39m,\n",
       "  \u001b[32m\"9780007880331,THE GOD OF SMAAL THINGS,ARUNDHATI ROY,4TH HARPER COLLINS,2\"\u001b[39m,\n",
       "  \u001b[32m\"9780545060455,THE BLACK CIRCLE,Mark,4TH HARPER COLLINS,0\"\u001b[39m,\n",
       "  \u001b[32m\"9788126525072,THE THREE LAWS OF PERFORMANCE,Mark,4TH HARPER COLLINS,0\"\u001b[39m,\n",
       "  \u001b[32m\"9789381626610,CHAMarkKYA MANTRA,Mark,4TH HARPER COLLINS,0\"\u001b[39m,\n",
       "  \u001b[32m\"9788184513523,59.FLAGS,Mark,4TH HARPER COLLINS,0\"\u001b[39m,\n",
       "  \u001b[32m\"9780743234801,THE POWER OF POSITIVE THINKING FROM,Mark,A & A PUBLISHER,0\"\u001b[39m,\n",
       "  \u001b[32m\"9789381529621,YOU CAN IF YO THINK YO CAN,PEALE,A & A PUBLISHER,0\"\u001b[39m,\n",
       "  \u001b[32m\"9788183223966,DONGRI SE DUBAI TAK (MPH),Mark,A & A PUBLISHER,0\"\u001b[39m,\n",
       "  \u001b[32m\"9788187776005,MarkLANDA ADYTAN KOSH,Mark,AADISH BOOK DEPOT,0\"\u001b[39m,\n",
       "  \u001b[32m\"9788187776013,MarkLANDA VISHAL SHABD SAGAR,-,AADISH BOOK DEPOT,1\"\u001b[39m,\n",
       "  \u001b[32m\"8187776021,MarkLANDA CONCISE DICT(ENG TO HINDI),Mark,AADISH BOOK DEPOT,0\"\u001b[39m,\n",
       "  \u001b[32m\"9789384716165,LIEUTEMarkMarkT GENERAL BHAGAT: A SAGA OF BRAVERY AND LEADERSHIP,Mark,AAM COMICS,2\"\u001b[39m,\n",
       "  \u001b[32m\"9789384716233,LN. MarkIK SUNDER SINGH,N.A,AAN COMICS,0\"\u001b[39m,\n",
       "  \u001b[32m\"9789384850319,I AM KRISHMark,DEEP TRIVEDI,AATMAN INNOVATIONS PVT LTD,1\"\u001b[39m,\n",
       "  \u001b[32m\"9789384850357,DON'T TEACH ME TOLERANCE INDIA,DEEP TRIVEDI,AATMAN INNOVATIONS PVT LTD,0\"\u001b[39m,\n",
       "  \u001b[32m\"9789384850364,MUJHE SAHISHNUTA MAT SIKHAO BHARAT,DEEP TRIVEDI,AATMAN INNOVATIONS PVT LTD,0\"\u001b[39m\n",
       ")\n",
       "\u001b[36mlines2\u001b[39m: \u001b[32mArray\u001b[39m[\u001b[32mString\u001b[39m] = \u001b[33mArray\u001b[39m(\n",
       "  \u001b[32m\"Serial Number,Company Name,Employee Markme,Description,Leave\"\u001b[39m,\n",
       "  \u001b[32m\"9788189999599,TALES OF SHIVA,Mark,mark,0\"\u001b[39m,\n",
       "  \u001b[32m\"9780099578079,1Q84 THE COMPLETE TRILOGY,HARUKI MURAKAMI,Mark,0\"\u001b[39m,\n",
       "  \u001b[32m\"9780198082897,MY KUMAN,Mark,Mark,0\"\u001b[39m,\n",
       "  \u001b[32m\"9780007880331,THE GOD OF SMAAL THINGS,ARUNDHATI ROY,4TH HARPER COLLINS,2\"\u001b[39m,\n",
       "  \u001b[32m\"9780545060455,THE BLACK CIRCLE,Mark,4TH HARPER COLLINS,0\"\u001b[39m,\n",
       "  \u001b[32m\"9788126525072,THE THREE LAWS OF PERFORMANCE,Mark,4TH HARPER COLLINS,0\"\u001b[39m,\n",
       "  \u001b[32m\"9789381626610,CHAMarkKYA MANTRA,Mark,4TH HARPER COLLINS,0\"\u001b[39m,\n",
       "  \u001b[32m\"9788184513523,59.FLAGS,Mark,4TH HARPER COLLINS,0\"\u001b[39m,\n",
       "  \u001b[32m\"9780743234801,THE POWER OF POSITIVE THINKING FROM,Mark,A & A PUBLISHER,0\"\u001b[39m,\n",
       "  \u001b[32m\"9789381529621,YOU CAN IF YO THINK YO CAN,PEALE,A & A PUBLISHER,0\"\u001b[39m,\n",
       "  \u001b[32m\"9788183223966,DONGRI SE DUBAI TAK (MPH),Mark,A & A PUBLISHER,0\"\u001b[39m,\n",
       "  \u001b[32m\"9788187776005,MarkLANDA ADYTAN KOSH,Mark,AADISH BOOK DEPOT,0\"\u001b[39m,\n",
       "  \u001b[32m\"9788187776013,MarkLANDA VISHAL SHABD SAGAR,-,AADISH BOOK DEPOT,1\"\u001b[39m,\n",
       "  \u001b[32m\"8187776021,MarkLANDA CONCISE DICT(ENG TO HINDI),Mark,AADISH BOOK DEPOT,0\"\u001b[39m,\n",
       "  \u001b[32m\"9789384716165,LIEUTEMarkMarkT GENERAL BHAGAT: A SAGA OF BRAVERY AND LEADERSHIP,Mark,AAM COMICS,2\"\u001b[39m,\n",
       "  \u001b[32m\"9789384716233,LN. MarkIK SUNDER SINGH,N.A,AAN COMICS,0\"\u001b[39m,\n",
       "  \u001b[32m\"9789384850319,I AM KRISHMark,DEEP TRIVEDI,AATMAN INNOVATIONS PVT LTD,1\"\u001b[39m,\n",
       "  \u001b[32m\"9789384850357,DON'T TEACH ME TOLERANCE INDIA,DEEP TRIVEDI,AATMAN INNOVATIONS PVT LTD,0\"\u001b[39m,\n",
       "  \u001b[32m\"9789384850364,MUJHE SAHISHNUTA MAT SIKHAO BHARAT,DEEP TRIVEDI,AATMAN INNOVATIONS PVT LTD,0\"\u001b[39m\n",
       ")\n",
       "\u001b[36mfileContents\u001b[39m: \u001b[32mString\u001b[39m = \u001b[32m\"Serial Number,Company Name,Employee Markme,Description,Leave9788189999599,TALES OF SHIVA,Mark,mark,09780099578079,1Q84 THE COMPLETE TRILOGY,HARUKI MURAKAMI,Mark,09780198082897,MY KUMAN,Mark,Mark,09780007880331,THE GOD OF SMAAL THINGS,ARUNDHATI ROY,4TH HARPER COLLINS,29780545060455,THE BLACK CIRCLE,Mark,4TH HARPER COLLINS,09788126525072,THE THREE LAWS OF PERFORMANCE,Mark,4TH HARPER COLLINS,09789381626610,CHAMarkKYA MANTRA,Mark,4TH HARPER COLLINS,09788184513523,59.FLAGS,Mark,4TH HARPER COLLINS,09780743234801,THE POWER OF POSITIVE THINKING FROM,Mark,A & A PUBLISHER,09789381529621,YOU CAN IF YO THINK YO CAN,PEALE,A & A PUBLISHER,09788183223966,DONGRI SE DUBAI TAK (MPH),Mark,A & A PUBLISHER,09788187776005,MarkLANDA ADYTAN KOSH,Mark,AADISH BOOK DEPOT,09788187776013,MarkLANDA VISHAL SHABD SAGAR,-,AADISH BOOK DEPOT,18187776021,MarkLANDA CONCISE DICT(ENG TO HINDI),Mark,AADISH BOOK DEPOT,09789384716165,LIEUTEMarkMarkT GENERAL BHAGAT: A SAGA OF BRAVERY AND LEADERSHIP,Mark,AAM COMICS,29789384716233,LN. MarkIK SUNDER SINGH,N.A,AAN COMICS,09789384850319,I AM KRISHMark,DEEP TRIVEDI,AATMAN INNOVATIONS PVT LTD,19789384850357,DON'T TEACH ME TOLERANCE INDIA,DEEP TRIVEDI,AATMAN INNOVATIONS PVT LTD,09789384850364,MUJHE SAHISHNUTA MAT SIKHAO BHARAT,DEEP TRIVEDI,AATMAN INNOVATIONS PVT LTD,0\"\u001b[39m"
      ]
     },
     "execution_count": 3,
     "metadata": {},
     "output_type": "execute_result"
    }
   ],
   "source": [
    "val lines1 = Source.fromFile(fileName).getLines.toList\n",
    "val lines2 = Source.fromFile(fileName).getLines.toArray\n",
    "val fileContents = Source.fromFile(fileName).getLines.mkString"
   ]
  },
  {
   "cell_type": "markdown",
   "metadata": {},
   "source": [
    "### Properly closing the file"
   ]
  },
  {
   "cell_type": "code",
   "execution_count": 2,
   "metadata": {},
   "outputs": [
    {
     "name": "stdout",
     "output_type": "stream",
     "text": [
      "SERIAL NUMBER,COMPANY NAME,EMPLOYEE MARKME,DESCRIPTION,LEAVE\n",
      "9788189999599,TALES OF SHIVA,MARK,MARK,0\n",
      "9780099578079,1Q84 THE COMPLETE TRILOGY,HARUKI MURAKAMI,MARK,0\n",
      "9780198082897,MY KUMAN,MARK,MARK,0\n",
      "9780007880331,THE GOD OF SMAAL THINGS,ARUNDHATI ROY,4TH HARPER COLLINS,2\n",
      "9780545060455,THE BLACK CIRCLE,MARK,4TH HARPER COLLINS,0\n",
      "9788126525072,THE THREE LAWS OF PERFORMANCE,MARK,4TH HARPER COLLINS,0\n",
      "9789381626610,CHAMARKKYA MANTRA,MARK,4TH HARPER COLLINS,0\n",
      "9788184513523,59.FLAGS,MARK,4TH HARPER COLLINS,0\n",
      "9780743234801,THE POWER OF POSITIVE THINKING FROM,MARK,A & A PUBLISHER,0\n",
      "9789381529621,YOU CAN IF YO THINK YO CAN,PEALE,A & A PUBLISHER,0\n",
      "9788183223966,DONGRI SE DUBAI TAK (MPH),MARK,A & A PUBLISHER,0\n",
      "9788187776005,MARKLANDA ADYTAN KOSH,MARK,AADISH BOOK DEPOT,0\n",
      "9788187776013,MARKLANDA VISHAL SHABD SAGAR,-,AADISH BOOK DEPOT,1\n",
      "8187776021,MARKLANDA CONCISE DICT(ENG TO HINDI),MARK,AADISH BOOK DEPOT,0\n",
      "9789384716165,LIEUTEMARKMARKT GENERAL BHAGAT: A SAGA OF BRAVERY AND LEADERSHIP,MARK,AAM COMICS,2\n",
      "9789384716233,LN. MARKIK SUNDER SINGH,N.A,AAN COMICS,0\n",
      "9789384850319,I AM KRISHMARK,DEEP TRIVEDI,AATMAN INNOVATIONS PVT LTD,1\n",
      "9789384850357,DON'T TEACH ME TOLERANCE INDIA,DEEP TRIVEDI,AATMAN INNOVATIONS PVT LTD,0\n",
      "9789384850364,MUJHE SAHISHNUTA MAT SIKHAO BHARAT,DEEP TRIVEDI,AATMAN INNOVATIONS PVT LTD,0\n"
     ]
    },
    {
     "ename": "",
     "evalue": "",
     "output_type": "error",
     "traceback": [
      "\u001b[31mjava.io.IOException: Stream Closed\u001b[39m\n  java.io.FileInputStream.readBytes(\u001b[32mNative Method\u001b[39m)\n  java.io.FileInputStream.read(\u001b[32mFileInputStream.java\u001b[39m:\u001b[32m272\u001b[39m)\n  sun.nio.cs.StreamDecoder.readBytes(\u001b[32mStreamDecoder.java\u001b[39m:\u001b[32m297\u001b[39m)\n  sun.nio.cs.StreamDecoder.implRead(\u001b[32mStreamDecoder.java\u001b[39m:\u001b[32m339\u001b[39m)\n  sun.nio.cs.StreamDecoder.read(\u001b[32mStreamDecoder.java\u001b[39m:\u001b[32m188\u001b[39m)\n  java.io.InputStreamReader.read(\u001b[32mInputStreamReader.java\u001b[39m:\u001b[32m181\u001b[39m)\n  java.io.BufferedReader.fill(\u001b[32mBufferedReader.java\u001b[39m:\u001b[32m161\u001b[39m)\n  java.io.BufferedReader.read(\u001b[32mBufferedReader.java\u001b[39m:\u001b[32m182\u001b[39m)\n  scala.io.BufferedSource.$anonfun$iter$2(\u001b[32mBufferedSource.scala\u001b[39m:\u001b[32m41\u001b[39m)\n  scala.io.Codec.wrap(\u001b[32mCodec.scala\u001b[39m:\u001b[32m73\u001b[39m)\n  scala.io.BufferedSource.$anonfun$iter$1(\u001b[32mBufferedSource.scala\u001b[39m:\u001b[32m41\u001b[39m)\n  scala.runtime.java8.JFunction0$mcI$sp.apply(\u001b[32mJFunction0$mcI$sp.scala\u001b[39m:\u001b[32m17\u001b[39m)\n  scala.collection.Iterator$$anon$27.next(\u001b[32mIterator.scala\u001b[39m:\u001b[32m1114\u001b[39m)\n  scala.collection.Iterator$$anon$11.hasNext(\u001b[32mIterator.scala\u001b[39m:\u001b[32m628\u001b[39m)\n  scala.collection.Iterator$$anon$9.hasNext(\u001b[32mIterator.scala\u001b[39m:\u001b[32m574\u001b[39m)\n  scala.io.Source.hasNext(\u001b[32mSource.scala\u001b[39m:\u001b[32m250\u001b[39m)\n  scala.collection.Iterator.isEmpty(\u001b[32mIterator.scala\u001b[39m:\u001b[32m459\u001b[39m)\n  scala.collection.Iterator.isEmpty$(\u001b[32mIterator.scala\u001b[39m:\u001b[32m459\u001b[39m)\n  scala.io.Source.isEmpty(\u001b[32mSource.scala\u001b[39m:\u001b[32m202\u001b[39m)\n  pprint.Walker.$anonfun$treeify$1(\u001b[32mWalker.scala\u001b[39m:\u001b[32m80\u001b[39m)\n  scala.Option.getOrElse(\u001b[32mOption.scala\u001b[39m:\u001b[32m201\u001b[39m)\n  pprint.Walker.treeify(\u001b[32mWalker.scala\u001b[39m:\u001b[32m45\u001b[39m)\n  pprint.PPrinter.treeify(\u001b[32mPPrinter.scala\u001b[39m:\u001b[32m26\u001b[39m)\n  pprint.PPrinter.tokenize(\u001b[32mPPrinter.scala\u001b[39m:\u001b[32m101\u001b[39m)\n  ammonite.repl.FullReplAPI$Internal.print(\u001b[32mFullReplAPI.scala\u001b[39m:\u001b[32m106\u001b[39m)\n  ammonite.repl.FullReplAPI$Internal.print$(\u001b[32mFullReplAPI.scala\u001b[39m:\u001b[32m61\u001b[39m)\n  almond.ReplApiImpl$$anon$2.super$print(\u001b[32mReplApiImpl.scala\u001b[39m:\u001b[32m201\u001b[39m)\n  almond.ReplApiImpl$$anon$2.$anonfun$print$1(\u001b[32mReplApiImpl.scala\u001b[39m:\u001b[32m201\u001b[39m)\n  scala.Option.getOrElse(\u001b[32mOption.scala\u001b[39m:\u001b[32m201\u001b[39m)\n  almond.ReplApiImpl$$anon$2.print(\u001b[32mReplApiImpl.scala\u001b[39m:\u001b[32m201\u001b[39m)\n  almond.JupyterApiImpl.$anonfun$printOnChange$1(\u001b[32mJupyterApiImpl.scala\u001b[39m:\u001b[32m36\u001b[39m)\n  scala.Option.getOrElse(\u001b[32mOption.scala\u001b[39m:\u001b[32m201\u001b[39m)\n  almond.JupyterApiImpl.printOnChange(\u001b[32mJupyterApiImpl.scala\u001b[39m:\u001b[32m36\u001b[39m)\n  almond.api.FullJupyterApi$Internal$.printOnChange(\u001b[32mFullJupyterApi.scala\u001b[39m:\u001b[32m27\u001b[39m)"
     ]
    }
   ],
   "source": [
    "val bufferedSource = Source.fromFile(\"sample.csv\")\n",
    "for (line <- bufferedSource.getLines) {\n",
    "    println(line.toUpperCase)\n",
    "}\n",
    "\n",
    "bufferedSource.close"
   ]
  },
  {
   "cell_type": "code",
   "execution_count": null,
   "metadata": {},
   "outputs": [],
   "source": []
  }
 ],
 "metadata": {
  "kernelspec": {
   "display_name": "Scala",
   "language": "scala",
   "name": "scala"
  },
  "language_info": {
   "codemirror_mode": "text/x-scala",
   "file_extension": ".sc",
   "mimetype": "text/x-scala",
   "name": "scala",
   "nbconvert_exporter": "script",
   "version": "2.13.3"
  }
 },
 "nbformat": 4,
 "nbformat_minor": 4
}
