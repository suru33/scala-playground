{
 "cells": [
  {
   "cell_type": "markdown",
   "metadata": {},
   "source": [
    "## Ex 6.1 (`Map` and `Filter`)"
   ]
  },
  {
   "cell_type": "code",
   "execution_count": 1,
   "metadata": {},
   "outputs": [
    {
     "data": {
      "text/plain": [
       "\u001b[36mzones\u001b[39m: \u001b[32mArray\u001b[39m[\u001b[32mString\u001b[39m] = \u001b[33mArray\u001b[39m(\n",
       "  \u001b[32m\"Africa/Abidjan\"\u001b[39m,\n",
       "  \u001b[32m\"Africa/Accra\"\u001b[39m,\n",
       "  \u001b[32m\"Africa/Addis_Ababa\"\u001b[39m,\n",
       "  \u001b[32m\"Africa/Algiers\"\u001b[39m,\n",
       "  \u001b[32m\"Africa/Asmara\"\u001b[39m,\n",
       "  \u001b[32m\"Africa/Asmera\"\u001b[39m,\n",
       "  \u001b[32m\"Africa/Bamako\"\u001b[39m,\n",
       "  \u001b[32m\"Africa/Bangui\"\u001b[39m,\n",
       "  \u001b[32m\"Africa/Banjul\"\u001b[39m,\n",
       "  \u001b[32m\"Africa/Bissau\"\u001b[39m,\n",
       "  \u001b[32m\"Africa/Blantyre\"\u001b[39m,\n",
       "  \u001b[32m\"Africa/Brazzaville\"\u001b[39m,\n",
       "  \u001b[32m\"Africa/Bujumbura\"\u001b[39m,\n",
       "  \u001b[32m\"Africa/Cairo\"\u001b[39m,\n",
       "  \u001b[32m\"Africa/Casablanca\"\u001b[39m,\n",
       "  \u001b[32m\"Africa/Ceuta\"\u001b[39m,\n",
       "  \u001b[32m\"Africa/Conakry\"\u001b[39m,\n",
       "  \u001b[32m\"Africa/Dakar\"\u001b[39m,\n",
       "  \u001b[32m\"Africa/Dar_es_Salaam\"\u001b[39m,\n",
       "  \u001b[32m\"Africa/Djibouti\"\u001b[39m,\n",
       "  \u001b[32m\"Africa/Douala\"\u001b[39m,\n",
       "  \u001b[32m\"Africa/El_Aaiun\"\u001b[39m,\n",
       "  \u001b[32m\"Africa/Freetown\"\u001b[39m,\n",
       "  \u001b[32m\"Africa/Gaborone\"\u001b[39m,\n",
       "  \u001b[32m\"Africa/Harare\"\u001b[39m,\n",
       "  \u001b[32m\"Africa/Johannesburg\"\u001b[39m,\n",
       "  \u001b[32m\"Africa/Juba\"\u001b[39m,\n",
       "  \u001b[32m\"Africa/Kampala\"\u001b[39m,\n",
       "  \u001b[32m\"Africa/Khartoum\"\u001b[39m,\n",
       "  \u001b[32m\"Africa/Kigali\"\u001b[39m,\n",
       "  \u001b[32m\"Africa/Kinshasa\"\u001b[39m,\n",
       "  \u001b[32m\"Africa/Lagos\"\u001b[39m,\n",
       "  \u001b[32m\"Africa/Libreville\"\u001b[39m,\n",
       "  \u001b[32m\"Africa/Lome\"\u001b[39m,\n",
       "  \u001b[32m\"Africa/Luanda\"\u001b[39m,\n",
       "  \u001b[32m\"Africa/Lubumbashi\"\u001b[39m,\n",
       "  \u001b[32m\"Africa/Lusaka\"\u001b[39m,\n",
       "  \u001b[32m\"Africa/Malabo\"\u001b[39m,\n",
       "..."
      ]
     },
     "execution_count": 1,
     "metadata": {},
     "output_type": "execute_result"
    }
   ],
   "source": [
    "val zones = java.util.TimeZone.getAvailableIDs"
   ]
  },
  {
   "cell_type": "code",
   "execution_count": 16,
   "metadata": {},
   "outputs": [
    {
     "data": {
      "text/plain": [
       "\u001b[36mres15\u001b[39m: \u001b[32mArray\u001b[39m[\u001b[32mString\u001b[39m] = \u001b[33mArray\u001b[39m(\n",
       "  \u001b[32m\"Abidjan\"\u001b[39m,\n",
       "  \u001b[32m\"Douala\"\u001b[39m,\n",
       "  \u001b[32m\"Mbabane\"\u001b[39m,\n",
       "  \u001b[32m\"Argentina\"\u001b[39m,\n",
       "  \u001b[32m\"Belize\"\u001b[39m,\n",
       "  \u001b[32m\"Curacao\"\u001b[39m,\n",
       "  \u001b[32m\"Guatemala\"\u001b[39m,\n",
       "  \u001b[32m\"Kentucky\"\u001b[39m,\n",
       "  \u001b[32m\"Mexico_City\"\u001b[39m,\n",
       "  \u001b[32m\"Port-au-Prince\"\u001b[39m,\n",
       "  \u001b[32m\"Sitka\"\u001b[39m,\n",
       "  \u001b[32m\"Casey\"\u001b[39m,\n",
       "  \u001b[32m\"Ashkhabad\"\u001b[39m,\n",
       "  \u001b[32m\"Dubai\"\u001b[39m,\n",
       "  \u001b[32m\"Khandyga\"\u001b[39m,\n",
       "  \u001b[32m\"Qatar\"\u001b[39m,\n",
       "  \u001b[32m\"Tomsk\"\u001b[39m,\n",
       "  \u001b[32m\"Reykjavik\"\u001b[39m,\n",
       "  \u001b[32m\"Queensland\"\u001b[39m,\n",
       "  \u001b[32m\"EasterIsland\"\u001b[39m,\n",
       "  \u001b[32m\"GMT-13\"\u001b[39m,\n",
       "  \u001b[32m\"Belfast\"\u001b[39m,\n",
       "  \u001b[32m\"Lisbon\"\u001b[39m,\n",
       "  \u001b[32m\"Saratov\"\u001b[39m,\n",
       "  \u001b[32m\"Chagos\"\u001b[39m,\n",
       "  \u001b[32m\"Enderbury\"\u001b[39m,\n",
       "  \u001b[32m\"Pago_Pago\"\u001b[39m,\n",
       "  \u001b[32m\"EST5\"\u001b[39m,\n",
       "  \u001b[32m\"Pacific-New\"\u001b[39m\n",
       ")"
      ]
     },
     "execution_count": 16,
     "metadata": {},
     "output_type": "execute_result"
    }
   ],
   "source": [
    "zones.map(_.split(\"/\"))   // split by '/'\n",
    "    .filter(_.length > 1) // remove weird ones \n",
    "    .map(_(1))            // take the 2nd value in the splitted string array\n",
    "    .grouped(20)          // group 20 elements together it returns Iterator[Array[String]] = non-empty iterator\n",
    "    .toArray              // convert non-empty iterator to Array\n",
    "    .map(_(0))            // pickup 1st element in each group"
   ]
  },
  {
   "cell_type": "markdown",
   "metadata": {},
   "source": [
    "## Ex 6.2 (`Reduce`)"
   ]
  },
  {
   "cell_type": "code",
   "execution_count": 21,
   "metadata": {},
   "outputs": [
    {
     "data": {
      "text/plain": [
       "defined \u001b[32mfunction\u001b[39m \u001b[36mfact\u001b[39m"
      ]
     },
     "execution_count": 21,
     "metadata": {},
     "output_type": "execute_result"
    }
   ],
   "source": [
    "def fact(n: Int) = (1 to n).reduceLeft(_ * _)"
   ]
  },
  {
   "cell_type": "code",
   "execution_count": 22,
   "metadata": {},
   "outputs": [
    {
     "data": {
      "text/plain": [
       "\u001b[36mres21\u001b[39m: \u001b[32mInt\u001b[39m = \u001b[32m3628800\u001b[39m"
      ]
     },
     "execution_count": 22,
     "metadata": {},
     "output_type": "execute_result"
    }
   ],
   "source": [
    "fact(10)"
   ]
  },
  {
   "cell_type": "code",
   "execution_count": 28,
   "metadata": {},
   "outputs": [
    {
     "data": {
      "text/plain": [
       "defined \u001b[32mfunction\u001b[39m \u001b[36mtwoPower\u001b[39m"
      ]
     },
     "execution_count": 28,
     "metadata": {},
     "output_type": "execute_result"
    }
   ],
   "source": [
    "def twoPower(n: Int) = (1 to n).map(x => 2).reduceLeft(_ * _)"
   ]
  },
  {
   "cell_type": "code",
   "execution_count": 29,
   "metadata": {},
   "outputs": [
    {
     "data": {
      "text/plain": [
       "\u001b[36mres28\u001b[39m: \u001b[32mInt\u001b[39m = \u001b[32m1024\u001b[39m"
      ]
     },
     "execution_count": 29,
     "metadata": {},
     "output_type": "execute_result"
    }
   ],
   "source": [
    "twoPower(10)"
   ]
  },
  {
   "cell_type": "code",
   "execution_count": 35,
   "metadata": {},
   "outputs": [
    {
     "data": {
      "text/plain": [
       "defined \u001b[32mfunction\u001b[39m \u001b[36mpow\u001b[39m"
      ]
     },
     "execution_count": 35,
     "metadata": {},
     "output_type": "execute_result"
    }
   ],
   "source": [
    "def pow(n: Int, x: Int) = (1 to x).map(p => n).reduceLeft(_ * _)"
   ]
  },
  {
   "cell_type": "code",
   "execution_count": 36,
   "metadata": {},
   "outputs": [
    {
     "data": {
      "text/plain": [
       "\u001b[36mres35\u001b[39m: \u001b[32mInt\u001b[39m = \u001b[32m25\u001b[39m"
      ]
     },
     "execution_count": 36,
     "metadata": {},
     "output_type": "execute_result"
    }
   ],
   "source": [
    "pow(5, 2)"
   ]
  },
  {
   "cell_type": "code",
   "execution_count": 37,
   "metadata": {},
   "outputs": [
    {
     "data": {
      "text/plain": [
       "defined \u001b[32mfunction\u001b[39m \u001b[36mpowC\u001b[39m"
      ]
     },
     "execution_count": 37,
     "metadata": {},
     "output_type": "execute_result"
    }
   ],
   "source": [
    "def powC(n: Int)(x: Int) = (1 to x).map(p => n).reduceLeft(_ * _)"
   ]
  },
  {
   "cell_type": "code",
   "execution_count": 39,
   "metadata": {},
   "outputs": [
    {
     "data": {
      "text/plain": [
       "\u001b[36mres38\u001b[39m: \u001b[32mInt\u001b[39m = \u001b[32m81\u001b[39m"
      ]
     },
     "execution_count": 39,
     "metadata": {},
     "output_type": "execute_result"
    }
   ],
   "source": [
    "powC(3)(4)"
   ]
  },
  {
   "cell_type": "markdown",
   "metadata": {},
   "source": [
    "## Ex 6.3 (`While`)"
   ]
  },
  {
   "cell_type": "markdown",
   "metadata": {},
   "source": [
    "#### Basic implementation"
   ]
  },
  {
   "cell_type": "code",
   "execution_count": 41,
   "metadata": {},
   "outputs": [
    {
     "data": {
      "text/plain": [
       "defined \u001b[32mfunction\u001b[39m \u001b[36mWhile\u001b[39m"
      ]
     },
     "execution_count": 41,
     "metadata": {},
     "output_type": "execute_result"
    }
   ],
   "source": [
    "def While(cond: () => Boolean, body: () => Unit): Unit = {\n",
    "    if(cond()) {\n",
    "        body()\n",
    "        While(cond, body)\n",
    "    }\n",
    "}"
   ]
  },
  {
   "cell_type": "code",
   "execution_count": 43,
   "metadata": {},
   "outputs": [
    {
     "data": {
      "text/html": [
       "<div class=\"jp-RenderedText\">\n",
       "<pre><code><span style=\"color: rgb(0, 187, 187)\"><span class=\"ansi-cyan-fg\">n</span></span>: <span style=\"color: rgb(0, 187, 0)\"><span class=\"ansi-green-fg\">Int</span></span> = <span style=\"color: rgb(0, 187, 0)\"><span class=\"ansi-green-fg\">10</span></span>\n",
       "<span style=\"color: rgb(0, 187, 187)\"><span class=\"ansi-cyan-fg\">i</span></span>: <span style=\"color: rgb(0, 187, 0)\"><span class=\"ansi-green-fg\">Int</span></span> = <span style=\"color: rgb(0, 187, 0)\"><span class=\"ansi-green-fg\">11</span></span>\n",
       "<span style=\"color: rgb(0, 187, 187)\"><span class=\"ansi-cyan-fg\">count</span></span>: <span style=\"color: rgb(0, 187, 0)\"><span class=\"ansi-green-fg\">Int</span></span> = <span style=\"color: rgb(0, 187, 0)\"><span class=\"ansi-green-fg\">55</span></span></code></pre>\n",
       "</div>"
      ],
      "text/plain": [
       "\u001b[36mn\u001b[39m: \u001b[32mInt\u001b[39m = \u001b[32m10\u001b[39m\n",
       "\u001b[36mi\u001b[39m: \u001b[32mInt\u001b[39m = \u001b[32m11\u001b[39m\n",
       "\u001b[36mcount\u001b[39m: \u001b[32mInt\u001b[39m = \u001b[32m55\u001b[39m"
      ]
     },
     "metadata": {},
     "output_type": "display_data"
    }
   ],
   "source": [
    "val n = 10\n",
    "var i = 0\n",
    "var count = 0\n",
    "\n",
    "While(() => i <= 10, () => {\n",
    "    count += i\n",
    "    i += 1\n",
    "})"
   ]
  },
  {
   "cell_type": "markdown",
   "metadata": {},
   "source": [
    "#### Call by name syntax"
   ]
  },
  {
   "cell_type": "code",
   "execution_count": 49,
   "metadata": {},
   "outputs": [
    {
     "data": {
      "text/plain": [
       "defined \u001b[32mfunction\u001b[39m \u001b[36mWhile\u001b[39m"
      ]
     },
     "execution_count": 49,
     "metadata": {},
     "output_type": "execute_result"
    }
   ],
   "source": [
    "def While(cond: => Boolean, body: => Unit): Unit = {\n",
    "    if(cond) {\n",
    "        body; While(cond, body)\n",
    "    }\n",
    "}"
   ]
  },
  {
   "cell_type": "code",
   "execution_count": 50,
   "metadata": {},
   "outputs": [
    {
     "data": {
      "text/html": [
       "<div class=\"jp-RenderedText\">\n",
       "<pre><code><span style=\"color: rgb(0, 187, 187)\"><span class=\"ansi-cyan-fg\">n</span></span>: <span style=\"color: rgb(0, 187, 0)\"><span class=\"ansi-green-fg\">Int</span></span> = <span style=\"color: rgb(0, 187, 0)\"><span class=\"ansi-green-fg\">10</span></span>\n",
       "<span style=\"color: rgb(0, 187, 187)\"><span class=\"ansi-cyan-fg\">i</span></span>: <span style=\"color: rgb(0, 187, 0)\"><span class=\"ansi-green-fg\">Int</span></span> = <span style=\"color: rgb(0, 187, 0)\"><span class=\"ansi-green-fg\">11</span></span>\n",
       "<span style=\"color: rgb(0, 187, 187)\"><span class=\"ansi-cyan-fg\">count</span></span>: <span style=\"color: rgb(0, 187, 0)\"><span class=\"ansi-green-fg\">Int</span></span> = <span style=\"color: rgb(0, 187, 0)\"><span class=\"ansi-green-fg\">55</span></span></code></pre>\n",
       "</div>"
      ],
      "text/plain": [
       "\u001b[36mn\u001b[39m: \u001b[32mInt\u001b[39m = \u001b[32m10\u001b[39m\n",
       "\u001b[36mi\u001b[39m: \u001b[32mInt\u001b[39m = \u001b[32m11\u001b[39m\n",
       "\u001b[36mcount\u001b[39m: \u001b[32mInt\u001b[39m = \u001b[32m55\u001b[39m"
      ]
     },
     "metadata": {},
     "output_type": "display_data"
    }
   ],
   "source": [
    "val n = 10\n",
    "var i = 0\n",
    "var count = 0\n",
    "\n",
    "While(i <= 10, {\n",
    "    count += i\n",
    "    i += 1\n",
    "})"
   ]
  },
  {
   "cell_type": "markdown",
   "metadata": {},
   "source": [
    "#### Currying syntax"
   ]
  },
  {
   "cell_type": "code",
   "execution_count": 51,
   "metadata": {},
   "outputs": [
    {
     "data": {
      "text/plain": [
       "defined \u001b[32mfunction\u001b[39m \u001b[36mWhile\u001b[39m"
      ]
     },
     "execution_count": 51,
     "metadata": {},
     "output_type": "execute_result"
    }
   ],
   "source": [
    "def While(cond: => Boolean)(body: => Unit): Unit = {\n",
    "    if(cond) {\n",
    "        body; While(cond)(body)\n",
    "    }\n",
    "}"
   ]
  },
  {
   "cell_type": "code",
   "execution_count": 52,
   "metadata": {},
   "outputs": [
    {
     "data": {
      "text/html": [
       "<div class=\"jp-RenderedText\">\n",
       "<pre><code><span style=\"color: rgb(0, 187, 187)\"><span class=\"ansi-cyan-fg\">n</span></span>: <span style=\"color: rgb(0, 187, 0)\"><span class=\"ansi-green-fg\">Int</span></span> = <span style=\"color: rgb(0, 187, 0)\"><span class=\"ansi-green-fg\">10</span></span>\n",
       "<span style=\"color: rgb(0, 187, 187)\"><span class=\"ansi-cyan-fg\">i</span></span>: <span style=\"color: rgb(0, 187, 0)\"><span class=\"ansi-green-fg\">Int</span></span> = <span style=\"color: rgb(0, 187, 0)\"><span class=\"ansi-green-fg\">11</span></span>\n",
       "<span style=\"color: rgb(0, 187, 187)\"><span class=\"ansi-cyan-fg\">count</span></span>: <span style=\"color: rgb(0, 187, 0)\"><span class=\"ansi-green-fg\">Int</span></span> = <span style=\"color: rgb(0, 187, 0)\"><span class=\"ansi-green-fg\">55</span></span></code></pre>\n",
       "</div>"
      ],
      "text/plain": [
       "\u001b[36mn\u001b[39m: \u001b[32mInt\u001b[39m = \u001b[32m10\u001b[39m\n",
       "\u001b[36mi\u001b[39m: \u001b[32mInt\u001b[39m = \u001b[32m11\u001b[39m\n",
       "\u001b[36mcount\u001b[39m: \u001b[32mInt\u001b[39m = \u001b[32m55\u001b[39m"
      ]
     },
     "metadata": {},
     "output_type": "display_data"
    }
   ],
   "source": [
    "val n = 10\n",
    "var i = 0\n",
    "var count = 0\n",
    "\n",
    "While(i <= 10) {\n",
    "    count += i\n",
    "    i += 1\n",
    "}"
   ]
  },
  {
   "cell_type": "code",
   "execution_count": null,
   "metadata": {},
   "outputs": [],
   "source": []
  }
 ],
 "metadata": {
  "kernelspec": {
   "display_name": "Scala",
   "language": "scala",
   "name": "scala"
  },
  "language_info": {
   "codemirror_mode": "text/x-scala",
   "file_extension": ".sc",
   "mimetype": "text/x-scala",
   "name": "scala",
   "nbconvert_exporter": "script",
   "version": "2.13.3"
  }
 },
 "nbformat": 4,
 "nbformat_minor": 4
}
