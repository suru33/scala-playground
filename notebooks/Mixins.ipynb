{
 "cells": [
  {
   "cell_type": "code",
   "execution_count": 1,
   "metadata": {},
   "outputs": [
    {
     "data": {
      "text/plain": [
       "\u001b[32mimport \u001b[39m\u001b[36mjava.time.LocalDateTime\u001b[39m"
      ]
     },
     "execution_count": 1,
     "metadata": {},
     "output_type": "execute_result"
    }
   ],
   "source": [
    "import java.time.LocalDateTime"
   ]
  },
  {
   "cell_type": "code",
   "execution_count": 2,
   "metadata": {},
   "outputs": [
    {
     "data": {
      "text/plain": [
       "defined \u001b[32mtrait\u001b[39m \u001b[36mLogger\u001b[39m"
      ]
     },
     "execution_count": 2,
     "metadata": {},
     "output_type": "execute_result"
    }
   ],
   "source": [
    "trait Logger {\n",
    "    def log(msg: String) {}\n",
    "}"
   ]
  },
  {
   "cell_type": "code",
   "execution_count": 3,
   "metadata": {},
   "outputs": [
    {
     "data": {
      "text/plain": [
       "defined \u001b[32mtrait\u001b[39m \u001b[36mTimeStampLogger\u001b[39m"
      ]
     },
     "execution_count": 3,
     "metadata": {},
     "output_type": "execute_result"
    }
   ],
   "source": [
    "trait TimeStampLogger extends Logger {\n",
    "    override def log(msg: String) =\n",
    "        super.log(f\"${LocalDateTime.now()} ${msg}\")\n",
    "}"
   ]
  },
  {
   "cell_type": "code",
   "execution_count": 4,
   "metadata": {},
   "outputs": [
    {
     "data": {
      "text/plain": [
       "defined \u001b[32mtrait\u001b[39m \u001b[36mConsoleLogger\u001b[39m"
      ]
     },
     "execution_count": 4,
     "metadata": {},
     "output_type": "execute_result"
    }
   ],
   "source": [
    "trait ConsoleLogger extends Logger {\n",
    "    var prefix = \"\"\n",
    "    var suffix = \"\"\n",
    "\n",
    "    override def log(msg: String) =\n",
    "        println(s\"$prefix$msg$suffix\")\n",
    "}"
   ]
  },
  {
   "cell_type": "code",
   "execution_count": 5,
   "metadata": {},
   "outputs": [
    {
     "data": {
      "text/plain": [
       "defined \u001b[32mtrait\u001b[39m \u001b[36mShortLogger\u001b[39m"
      ]
     },
     "execution_count": 5,
     "metadata": {},
     "output_type": "execute_result"
    }
   ],
   "source": [
    "trait ShortLogger extends Logger {\n",
    "    var length: Int = 15\n",
    "\n",
    "    override def log(msg: String) =\n",
    "        super.log(msg.substring(0, length) + \"...\")\n",
    "}"
   ]
  },
  {
   "cell_type": "code",
   "execution_count": 6,
   "metadata": {},
   "outputs": [
    {
     "data": {
      "text/plain": [
       "defined \u001b[32mclass\u001b[39m \u001b[36mBankAccount\u001b[39m"
      ]
     },
     "execution_count": 6,
     "metadata": {},
     "output_type": "execute_result"
    }
   ],
   "source": [
    "class BankAccount(initialBalance: Double = 0) extends Logger {\n",
    "    private var balance: Double = initialBalance\n",
    "    log(s\"Account Opened with $balance\")\n",
    "\n",
    "    def withdraw(amount: Double): Unit = {\n",
    "        if (amount > balance) log(\"Insufficient Balance, withdraw failed\")\n",
    "        else {\n",
    "            balance -= amount\n",
    "            log(s\"Withdraw success $amount\")\n",
    "        }\n",
    "    }\n",
    "\n",
    "    def deposit(amount: Double): Unit = {\n",
    "        if (amount <= 0) log(f\"Trying to deposit invalid amount $amount\")\n",
    "        else {\n",
    "            balance += amount\n",
    "            log(s\"Deposit success $amount\")\n",
    "        }\n",
    "    }\n",
    "}"
   ]
  },
  {
   "cell_type": "code",
   "execution_count": 7,
   "metadata": {},
   "outputs": [
    {
     "name": "stdout",
     "output_type": "stream",
     "text": [
      "null2020-09-21T01:09:29.216986 ...null\n"
     ]
    },
    {
     "data": {
      "text/plain": [
       "\u001b[36mbankAccount1\u001b[39m: \u001b[32mBankAccount\u001b[39m with \u001b[32mConsoleLogger\u001b[39m with \u001b[32mTimeStampLogger\u001b[39m with \u001b[32mShortLogger\u001b[39m = ammonite.$sess.cmd6$Helper$$anon$1@1a6797f8"
      ]
     },
     "execution_count": 7,
     "metadata": {},
     "output_type": "execute_result"
    }
   ],
   "source": [
    "val bankAccount1 = new BankAccount(100)\n",
    "    with ConsoleLogger\n",
    "    with TimeStampLogger\n",
    "    with ShortLogger {\n",
    "        prefix = \"| \"\n",
    "        suffix = \" |\"\n",
    "        length = 20\n",
    "    }"
   ]
  },
  {
   "cell_type": "code",
   "execution_count": 8,
   "metadata": {},
   "outputs": [
    {
     "name": "stdout",
     "output_type": "stream",
     "text": [
      "| 2020-09-21T01:09:55.160112 Deposit success 30.0... |\n"
     ]
    }
   ],
   "source": [
    "bankAccount1.deposit(30)"
   ]
  },
  {
   "cell_type": "code",
   "execution_count": 9,
   "metadata": {},
   "outputs": [
    {
     "name": "stdout",
     "output_type": "stream",
     "text": [
      "| 2020-09-21T01:10:01.893670 Withdraw success 100... |\n"
     ]
    }
   ],
   "source": [
    "bankAccount1.withdraw(100)"
   ]
  },
  {
   "cell_type": "code",
   "execution_count": 10,
   "metadata": {},
   "outputs": [
    {
     "name": "stdout",
     "output_type": "stream",
     "text": [
      "| 2020-09-21T01:10:08.627599 Trying to deposit in... |\n"
     ]
    }
   ],
   "source": [
    "bankAccount1.deposit(-1)"
   ]
  },
  {
   "cell_type": "code",
   "execution_count": 11,
   "metadata": {},
   "outputs": [
    {
     "name": "stdout",
     "output_type": "stream",
     "text": [
      "| 2020-09-21T01:10:11.931200 Insufficient Balance... |\n"
     ]
    }
   ],
   "source": [
    "bankAccount1.withdraw(300)"
   ]
  },
  {
   "cell_type": "code",
   "execution_count": null,
   "metadata": {},
   "outputs": [],
   "source": []
  }
 ],
 "metadata": {
  "kernelspec": {
   "display_name": "Scala",
   "language": "scala",
   "name": "scala"
  },
  "language_info": {
   "codemirror_mode": "text/x-scala",
   "file_extension": ".sc",
   "mimetype": "text/x-scala",
   "name": "scala",
   "nbconvert_exporter": "script",
   "version": "2.13.3"
  }
 },
 "nbformat": 4,
 "nbformat_minor": 4
}
